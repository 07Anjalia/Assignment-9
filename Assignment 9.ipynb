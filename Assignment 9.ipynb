{
 "cells": [
  {
   "cell_type": "markdown",
   "id": "ba2f7e49-f862-4d3b-a3e2-c7a6d3ff9ea9",
   "metadata": {},
   "source": [
    "1. To what does a relative path refer?\n",
    "\n",
    "A relative path in Python is a path that describes the location of a directory relative to the entry point where you run the Python script."
   ]
  },
  {
   "cell_type": "markdown",
   "id": "03e9dbec-a73b-40f4-9f67-8fdb8c544456",
   "metadata": {},
   "source": [
    "4. What are the . and .. folders?\n",
    "\n",
    "A single period (“dot”) for a folder name is shorthand for “this directory.” Two periods (“dot-dot”) means “the parent folder.”\n"
   ]
  },
  {
   "cell_type": "markdown",
   "id": "efb25d89-caec-4063-99df-3c507431d89c",
   "metadata": {},
   "source": [
    "5. In C:\\bacon\\eggs\\spam.txt, which part is the dir name, and which part is the base name?\n",
    "\n",
    "C:\\bacon\\eggs is the dir name, while spam. txt is the base name.\n"
   ]
  },
  {
   "cell_type": "markdown",
   "id": "a77c271f-0894-4212-893d-0f9c94e54659",
   "metadata": {},
   "source": [
    "6. What are the three “mode” arguments that can be passed to the open() function?\n",
    "\n",
    "r : Opens the file in read-only mode. ...\n",
    "rb : Opens the file as read-only in binary format and starts reading from the beginning of the file. ...\n",
    "r+ : Opens a file for reading and writing, placing the pointer at the beginning of the"
   ]
  },
  {
   "cell_type": "markdown",
   "id": "1e8b3bdb-10d3-4474-bf4a-7be86621deb2",
   "metadata": {},
   "source": [
    "7. What happens if an existing file is opened in write mode?\n",
    "\n",
    "write() method returns the number of characters written into the file. \n",
    "While writing into a file, if the file opened in 'w' or 'w+' mode does not exist, \n",
    "a new file will be created in the same name in our present working directory"
   ]
  },
  {
   "cell_type": "markdown",
   "id": "04ac3a54-231c-4260-b79c-225d9c346d34",
   "metadata": {},
   "source": [
    "8. How do you tell the difference between read() and readlines()?\n",
    "\n",
    "The read() will read the whole file at once and then print out the first characters that take up \n",
    "as many bytes as you specify in the parenthesis versus the readline() that will read \n",
    "and print out only the first characters that take up as many bytes as you specify in the parenthesis"
   ]
  },
  {
   "cell_type": "markdown",
   "id": "fc12d15a-8ff5-42a0-bba8-4771c13f4efc",
   "metadata": {},
   "source": [
    "9. What data structure does a shelf value resemble?\n",
    "\n",
    " A shelf value resembles a dictionary value; it has keys and values, \n",
    "along with keys() and values() methods that work similarly to the dictionary methods of the same names."
   ]
  },
  {
   "cell_type": "markdown",
   "id": "7557d929-1aa2-4b49-8b9e-1d3f4f9c7593",
   "metadata": {},
   "source": [
    "1. To what does a relative path refer?\n",
    "\n",
    "A relative path in Python is a path that describes the location of a directory relative to the entry point where you run the Python script."
   ]
  },
  {
   "cell_type": "markdown",
   "id": "06d2e74c-82f6-45e0-ba69-9a1f69c95de6",
   "metadata": {},
   "source": [
    "4. What are the . and .. folders?\n",
    "\n",
    "A single period (“dot”) for a folder name is shorthand for “this directory.” Two periods (“dot-dot”) means “the parent folder.”\n"
   ]
  },
  {
   "cell_type": "markdown",
   "id": "cf9cffc9-1349-4272-a7ca-d4e113803f0a",
   "metadata": {},
   "source": [
    "5. In C:\\bacon\\eggs\\spam.txt, which part is the dir name, and which part is the base name?\n",
    "\n",
    "C:\\bacon\\eggs is the dir name, while spam. txt is the base name.\n"
   ]
  },
  {
   "cell_type": "markdown",
   "id": "f1614790-eea8-46db-89e9-f9ff827e3da1",
   "metadata": {},
   "source": [
    "6. What are the three “mode” arguments that can be passed to the open() function?\n",
    "\n",
    "r : Opens the file in read-only mode. ...\n",
    "rb : Opens the file as read-only in binary format and starts reading from the beginning of the file. ...\n",
    "r+ : Opens a file for reading and writing, placing the pointer at the beginning of the"
   ]
  },
  {
   "cell_type": "markdown",
   "id": "47bdfd93-3cbc-4158-b62a-8b5d44810f54",
   "metadata": {},
   "source": [
    "7. What happens if an existing file is opened in write mode?\n",
    "\n",
    "write() method returns the number of characters written into the file. \n",
    "While writing into a file, if the file opened in 'w' or 'w+' mode does not exist, \n",
    "a new file will be created in the same name in our present working directory"
   ]
  },
  {
   "cell_type": "markdown",
   "id": "ef298c3e-6656-4481-ad73-ed7b596ce05e",
   "metadata": {},
   "source": [
    "8. How do you tell the difference between read() and readlines()?\n",
    "\n",
    "The read() will read the whole file at once and then print out the first characters that take up \n",
    "as many bytes as you specify in the parenthesis versus the readline() that will read \n",
    "and print out only the first characters that take up as many bytes as you specify in the parenthesis"
   ]
  },
  {
   "cell_type": "markdown",
   "id": "fb4cc559-125e-4036-aa44-4f4702ef2863",
   "metadata": {},
   "source": [
    "9. What data structure does a shelf value resemble?\n",
    "\n",
    " A shelf value resembles a dictionary value; it has keys and values, \n",
    "along with keys() and values() methods that work similarly to the dictionary methods of the same names."
   ]
  },
  {
   "cell_type": "markdown",
   "id": "5186757f-8a7c-49e4-ab33-7c95d228e1cd",
   "metadata": {},
   "source": [
    "2. What does an absolute path start with your operating system?\n",
    "\n",
    "An absolute path is a path that contains the entire path to the file or directory that you need to access. \n",
    "This path will begin at the home directory of your computer and will end with the file or directory that you wish to access. \n",
    "Absolute paths ensure that Python can find the exact file on your computer."
   ]
  },
  {
   "cell_type": "markdown",
   "id": "06f0388f-72e5-4e6d-877f-89965b035214",
   "metadata": {},
   "source": [
    "3. What do the functions os.getcwd() and os.chdir() do?\n",
    "\n",
    "getcwd() : CWD stands for Current Working Directory.\n",
    "chdir(\"path-to-dir\") : Short for CHange DIRectory, this function allows you to set the current working directory to a path of your choice.\n"
   ]
  }
 ],
 "metadata": {
  "kernelspec": {
   "display_name": "Python 3 (ipykernel)",
   "language": "python",
   "name": "python3"
  },
  "language_info": {
   "codemirror_mode": {
    "name": "ipython",
    "version": 3
   },
   "file_extension": ".py",
   "mimetype": "text/x-python",
   "name": "python",
   "nbconvert_exporter": "python",
   "pygments_lexer": "ipython3",
   "version": "3.10.6"
  }
 },
 "nbformat": 4,
 "nbformat_minor": 5
}
